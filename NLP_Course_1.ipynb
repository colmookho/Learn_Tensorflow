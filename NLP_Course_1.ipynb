{
  "nbformat": 4,
  "nbformat_minor": 0,
  "metadata": {
    "colab": {
      "name": " NLP Course 1.ipynb",
      "provenance": [],
      "authorship_tag": "ABX9TyPNIS5kC2+yDy17+o3Ss9hJ",
      "include_colab_link": true
    },
    "kernelspec": {
      "name": "python3",
      "display_name": "Python 3"
    },
    "language_info": {
      "name": "python"
    },
    "accelerator": "GPU"
  },
  "cells": [
    {
      "cell_type": "markdown",
      "metadata": {
        "id": "view-in-github",
        "colab_type": "text"
      },
      "source": [
        "<a href=\"https://colab.research.google.com/github/colmookho/Learn_Tensorflow/blob/main/NLP_Course_1.ipynb\" target=\"_parent\"><img src=\"https://colab.research.google.com/assets/colab-badge.svg\" alt=\"Open In Colab\"/></a>"
      ]
    },
    {
      "cell_type": "code",
      "execution_count": null,
      "metadata": {
        "id": "FJ3gl96kN9Yi"
      },
      "outputs": [],
      "source": [
        ""
      ]
    },
    {
      "cell_type": "markdown",
      "source": [
        "## Introduction to NLP"
      ],
      "metadata": {
        "id": "NHergVaMUFUe"
      }
    },
    {
      "cell_type": "code",
      "source": [
        "#Check for GPU\n",
        "\n",
        "!nvidia-smi -L"
      ],
      "metadata": {
        "colab": {
          "base_uri": "https://localhost:8080/"
        },
        "id": "G-X_pz4SUJ5U",
        "outputId": "5d95b00d-6e76-44a7-a93e-738cb98618ef"
      },
      "execution_count": 1,
      "outputs": [
        {
          "output_type": "stream",
          "name": "stdout",
          "text": [
            "GPU 0: Tesla K80 (UUID: GPU-24296556-0d6d-4d6c-7e69-07a157d4e644)\n"
          ]
        }
      ]
    },
    {
      "cell_type": "code",
      "source": [
        "# Get helper functions\n",
        "!wget 'https://github.com/colmookho/tensorflow-deep-learning/blob/main/extras/helper_functions.py'"
      ],
      "metadata": {
        "colab": {
          "base_uri": "https://localhost:8080/"
        },
        "id": "bn3dYVXgUThk",
        "outputId": "cb921001-9885-477b-b0d9-45f18224e0b6"
      },
      "execution_count": 2,
      "outputs": [
        {
          "output_type": "stream",
          "name": "stdout",
          "text": [
            "--2022-02-09 07:11:59--  https://github.com/colmookho/tensorflow-deep-learning/blob/main/extras/helper_functions.py\n",
            "Resolving github.com (github.com)... 140.82.114.3\n",
            "Connecting to github.com (github.com)|140.82.114.3|:443... connected.\n",
            "HTTP request sent, awaiting response... 200 OK\n",
            "Length: unspecified [text/html]\n",
            "Saving to: ‘helper_functions.py’\n",
            "\n",
            "helper_functions.py     [ <=>                ] 283.81K  --.-KB/s    in 0.1s    \n",
            "\n",
            "2022-02-09 07:12:00 (2.76 MB/s) - ‘helper_functions.py’ saved [290624]\n",
            "\n"
          ]
        }
      ]
    },
    {
      "cell_type": "code",
      "source": [
        ""
      ],
      "metadata": {
        "id": "O9j5DLAgUx1i"
      },
      "execution_count": null,
      "outputs": []
    },
    {
      "cell_type": "markdown",
      "source": [
        "# New Section"
      ],
      "metadata": {
        "id": "xQ-plg0VU0qq"
      }
    }
  ]
}